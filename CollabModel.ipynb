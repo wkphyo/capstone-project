{
  "cells": [
    {
      "cell_type": "code",
      "execution_count": 1,
      "metadata": {
        "id": "zMRfb-vpaQT6"
      },
      "outputs": [],
      "source": [
        "import pandas as pd\n",
        "import numpy as np\n",
        "import seaborn as sns\n",
        "import matplotlib.pyplot as plt\n",
        "import random\n",
        "import joblib\n",
        "import pickle\n",
        "\n",
        "from scipy.sparse import csr_matrix\n",
        "from sklearn.neighbors import NearestNeighbors"
      ]
    },
    {
      "cell_type": "code",
      "execution_count": 2,
      "metadata": {
        "id": "lxfgKcOJacei"
      },
      "outputs": [],
      "source": [
        "# Movielens 25M dataset\n",
        "movies_df = pd.read_csv('movielens/movies.csv')\n",
        "ratings_df = pd.read_csv('movielens/ratings.csv')"
      ]
    },
    {
      "cell_type": "code",
      "execution_count": 3,
      "metadata": {
        "colab": {
          "base_uri": "https://localhost:8080/",
          "height": 206
        },
        "id": "ZQOqjAzP5tci",
        "outputId": "e8c85359-9a64-4302-8f65-d0122812c397"
      },
      "outputs": [
        {
          "data": {
            "text/html": [
              "<div>\n",
              "<style scoped>\n",
              "    .dataframe tbody tr th:only-of-type {\n",
              "        vertical-align: middle;\n",
              "    }\n",
              "\n",
              "    .dataframe tbody tr th {\n",
              "        vertical-align: top;\n",
              "    }\n",
              "\n",
              "    .dataframe thead th {\n",
              "        text-align: right;\n",
              "    }\n",
              "</style>\n",
              "<table border=\"1\" class=\"dataframe\">\n",
              "  <thead>\n",
              "    <tr style=\"text-align: right;\">\n",
              "      <th></th>\n",
              "      <th>movieId</th>\n",
              "      <th>title</th>\n",
              "      <th>genres</th>\n",
              "    </tr>\n",
              "  </thead>\n",
              "  <tbody>\n",
              "    <tr>\n",
              "      <th>0</th>\n",
              "      <td>1</td>\n",
              "      <td>Toy Story (1995)</td>\n",
              "      <td>Adventure|Animation|Children|Comedy|Fantasy</td>\n",
              "    </tr>\n",
              "    <tr>\n",
              "      <th>1</th>\n",
              "      <td>2</td>\n",
              "      <td>Jumanji (1995)</td>\n",
              "      <td>Adventure|Children|Fantasy</td>\n",
              "    </tr>\n",
              "    <tr>\n",
              "      <th>2</th>\n",
              "      <td>3</td>\n",
              "      <td>Grumpier Old Men (1995)</td>\n",
              "      <td>Comedy|Romance</td>\n",
              "    </tr>\n",
              "    <tr>\n",
              "      <th>3</th>\n",
              "      <td>4</td>\n",
              "      <td>Waiting to Exhale (1995)</td>\n",
              "      <td>Comedy|Drama|Romance</td>\n",
              "    </tr>\n",
              "    <tr>\n",
              "      <th>4</th>\n",
              "      <td>5</td>\n",
              "      <td>Father of the Bride Part II (1995)</td>\n",
              "      <td>Comedy</td>\n",
              "    </tr>\n",
              "  </tbody>\n",
              "</table>\n",
              "</div>"
            ],
            "text/plain": [
              "   movieId                               title  \\\n",
              "0        1                    Toy Story (1995)   \n",
              "1        2                      Jumanji (1995)   \n",
              "2        3             Grumpier Old Men (1995)   \n",
              "3        4            Waiting to Exhale (1995)   \n",
              "4        5  Father of the Bride Part II (1995)   \n",
              "\n",
              "                                        genres  \n",
              "0  Adventure|Animation|Children|Comedy|Fantasy  \n",
              "1                   Adventure|Children|Fantasy  \n",
              "2                               Comedy|Romance  \n",
              "3                         Comedy|Drama|Romance  \n",
              "4                                       Comedy  "
            ]
          },
          "execution_count": 3,
          "metadata": {},
          "output_type": "execute_result"
        }
      ],
      "source": [
        "movies_df.head()"
      ]
    },
    {
      "cell_type": "code",
      "execution_count": 4,
      "metadata": {
        "id": "5tmCtA5hP9tu"
      },
      "outputs": [],
      "source": [
        "movies_df.drop(columns='genres', inplace=True)"
      ]
    },
    {
      "cell_type": "code",
      "execution_count": 5,
      "metadata": {
        "colab": {
          "base_uri": "https://localhost:8080/"
        },
        "id": "VPC_CyTE53Ov",
        "outputId": "536bbb68-ed35-4424-b973-3e3d3b14989c"
      },
      "outputs": [
        {
          "data": {
            "text/plain": [
              "(62423, 2)"
            ]
          },
          "execution_count": 5,
          "metadata": {},
          "output_type": "execute_result"
        }
      ],
      "source": [
        "movies_df.shape"
      ]
    },
    {
      "cell_type": "code",
      "execution_count": 6,
      "metadata": {
        "colab": {
          "base_uri": "https://localhost:8080/"
        },
        "id": "-OrladnW57z1",
        "outputId": "064e3f94-4ae3-4e58-da90-69b7978c94df"
      },
      "outputs": [
        {
          "data": {
            "text/plain": [
              "62423"
            ]
          },
          "execution_count": 6,
          "metadata": {},
          "output_type": "execute_result"
        }
      ],
      "source": [
        "len(movies_df.movieId.unique())"
      ]
    },
    {
      "cell_type": "code",
      "execution_count": 7,
      "metadata": {
        "colab": {
          "base_uri": "https://localhost:8080/"
        },
        "id": "p4mMKvvt6F3_",
        "outputId": "4cf1a125-a83e-4624-b7ae-122901f80b09"
      },
      "outputs": [
        {
          "data": {
            "text/plain": [
              "movieId    0\n",
              "title      0\n",
              "dtype: int64"
            ]
          },
          "execution_count": 7,
          "metadata": {},
          "output_type": "execute_result"
        }
      ],
      "source": [
        "movies_df.isnull().sum()"
      ]
    },
    {
      "cell_type": "code",
      "execution_count": 8,
      "metadata": {
        "colab": {
          "base_uri": "https://localhost:8080/",
          "height": 206
        },
        "id": "Q0EnWEIY6UVb",
        "outputId": "f97ffdca-caf5-484b-daf2-8f8bf78fdb42"
      },
      "outputs": [
        {
          "data": {
            "text/html": [
              "<div>\n",
              "<style scoped>\n",
              "    .dataframe tbody tr th:only-of-type {\n",
              "        vertical-align: middle;\n",
              "    }\n",
              "\n",
              "    .dataframe tbody tr th {\n",
              "        vertical-align: top;\n",
              "    }\n",
              "\n",
              "    .dataframe thead th {\n",
              "        text-align: right;\n",
              "    }\n",
              "</style>\n",
              "<table border=\"1\" class=\"dataframe\">\n",
              "  <thead>\n",
              "    <tr style=\"text-align: right;\">\n",
              "      <th></th>\n",
              "      <th>userId</th>\n",
              "      <th>movieId</th>\n",
              "      <th>rating</th>\n",
              "      <th>timestamp</th>\n",
              "    </tr>\n",
              "  </thead>\n",
              "  <tbody>\n",
              "    <tr>\n",
              "      <th>0</th>\n",
              "      <td>1</td>\n",
              "      <td>296</td>\n",
              "      <td>5.0</td>\n",
              "      <td>1147880044</td>\n",
              "    </tr>\n",
              "    <tr>\n",
              "      <th>1</th>\n",
              "      <td>1</td>\n",
              "      <td>306</td>\n",
              "      <td>3.5</td>\n",
              "      <td>1147868817</td>\n",
              "    </tr>\n",
              "    <tr>\n",
              "      <th>2</th>\n",
              "      <td>1</td>\n",
              "      <td>307</td>\n",
              "      <td>5.0</td>\n",
              "      <td>1147868828</td>\n",
              "    </tr>\n",
              "    <tr>\n",
              "      <th>3</th>\n",
              "      <td>1</td>\n",
              "      <td>665</td>\n",
              "      <td>5.0</td>\n",
              "      <td>1147878820</td>\n",
              "    </tr>\n",
              "    <tr>\n",
              "      <th>4</th>\n",
              "      <td>1</td>\n",
              "      <td>899</td>\n",
              "      <td>3.5</td>\n",
              "      <td>1147868510</td>\n",
              "    </tr>\n",
              "  </tbody>\n",
              "</table>\n",
              "</div>"
            ],
            "text/plain": [
              "   userId  movieId  rating   timestamp\n",
              "0       1      296     5.0  1147880044\n",
              "1       1      306     3.5  1147868817\n",
              "2       1      307     5.0  1147868828\n",
              "3       1      665     5.0  1147878820\n",
              "4       1      899     3.5  1147868510"
            ]
          },
          "execution_count": 8,
          "metadata": {},
          "output_type": "execute_result"
        }
      ],
      "source": [
        "ratings_df.head()"
      ]
    },
    {
      "cell_type": "code",
      "execution_count": 9,
      "metadata": {
        "id": "4VbeUdFcQGFQ"
      },
      "outputs": [],
      "source": [
        "ratings_df.drop(columns='timestamp', inplace=True)"
      ]
    },
    {
      "cell_type": "code",
      "execution_count": 10,
      "metadata": {
        "colab": {
          "base_uri": "https://localhost:8080/"
        },
        "id": "ZGehEPxu6uSa",
        "outputId": "ee6da453-f1a0-4914-ab88-052e46f2b117"
      },
      "outputs": [
        {
          "data": {
            "text/plain": [
              "(25000095, 3)"
            ]
          },
          "execution_count": 10,
          "metadata": {},
          "output_type": "execute_result"
        }
      ],
      "source": [
        "ratings_df.shape"
      ]
    },
    {
      "cell_type": "code",
      "execution_count": 11,
      "metadata": {
        "colab": {
          "base_uri": "https://localhost:8080/"
        },
        "id": "ji7xrZrA6YLc",
        "outputId": "8ed5f1a2-6024-441f-97be-bea6255c3bf1"
      },
      "outputs": [
        {
          "data": {
            "text/plain": [
              "userId     162541\n",
              "movieId     59047\n",
              "rating         10\n",
              "dtype: int64"
            ]
          },
          "execution_count": 11,
          "metadata": {},
          "output_type": "execute_result"
        }
      ],
      "source": [
        "ratings_df.nunique()"
      ]
    },
    {
      "cell_type": "code",
      "execution_count": 12,
      "metadata": {
        "id": "nG7fcROtszwS"
      },
      "outputs": [],
      "source": [
        "# We notice more than 162,000 unique users and 59,047 movies represented in the \n",
        "# ratings data. This means that there exists titles in the movies_df that do not\n",
        "# have ratings data associated with them; we will drop these records.\n",
        "\n",
        "# We're only interested in rating and movie metadata (excluding genre)\n",
        "main_df = pd.merge(\n",
        "    ratings_df[['userId', 'movieId', 'rating']],\n",
        "    movies_df[['movieId', 'title']],\n",
        "    how='left',\n",
        "    on='movieId'\n",
        ")"
      ]
    },
    {
      "cell_type": "code",
      "execution_count": 13,
      "metadata": {
        "colab": {
          "base_uri": "https://localhost:8080/",
          "height": 206
        },
        "id": "zPpeRICn7eez",
        "outputId": "11e04f69-64ac-4a85-d76c-6ee9ab940038"
      },
      "outputs": [
        {
          "data": {
            "text/html": [
              "<div>\n",
              "<style scoped>\n",
              "    .dataframe tbody tr th:only-of-type {\n",
              "        vertical-align: middle;\n",
              "    }\n",
              "\n",
              "    .dataframe tbody tr th {\n",
              "        vertical-align: top;\n",
              "    }\n",
              "\n",
              "    .dataframe thead th {\n",
              "        text-align: right;\n",
              "    }\n",
              "</style>\n",
              "<table border=\"1\" class=\"dataframe\">\n",
              "  <thead>\n",
              "    <tr style=\"text-align: right;\">\n",
              "      <th></th>\n",
              "      <th>userId</th>\n",
              "      <th>movieId</th>\n",
              "      <th>rating</th>\n",
              "      <th>title</th>\n",
              "    </tr>\n",
              "  </thead>\n",
              "  <tbody>\n",
              "    <tr>\n",
              "      <th>0</th>\n",
              "      <td>1</td>\n",
              "      <td>296</td>\n",
              "      <td>5.0</td>\n",
              "      <td>Pulp Fiction (1994)</td>\n",
              "    </tr>\n",
              "    <tr>\n",
              "      <th>1</th>\n",
              "      <td>1</td>\n",
              "      <td>306</td>\n",
              "      <td>3.5</td>\n",
              "      <td>Three Colors: Red (Trois couleurs: Rouge) (1994)</td>\n",
              "    </tr>\n",
              "    <tr>\n",
              "      <th>2</th>\n",
              "      <td>1</td>\n",
              "      <td>307</td>\n",
              "      <td>5.0</td>\n",
              "      <td>Three Colors: Blue (Trois couleurs: Bleu) (1993)</td>\n",
              "    </tr>\n",
              "    <tr>\n",
              "      <th>3</th>\n",
              "      <td>1</td>\n",
              "      <td>665</td>\n",
              "      <td>5.0</td>\n",
              "      <td>Underground (1995)</td>\n",
              "    </tr>\n",
              "    <tr>\n",
              "      <th>4</th>\n",
              "      <td>1</td>\n",
              "      <td>899</td>\n",
              "      <td>3.5</td>\n",
              "      <td>Singin' in the Rain (1952)</td>\n",
              "    </tr>\n",
              "  </tbody>\n",
              "</table>\n",
              "</div>"
            ],
            "text/plain": [
              "   userId  movieId  rating                                             title\n",
              "0       1      296     5.0                               Pulp Fiction (1994)\n",
              "1       1      306     3.5  Three Colors: Red (Trois couleurs: Rouge) (1994)\n",
              "2       1      307     5.0  Three Colors: Blue (Trois couleurs: Bleu) (1993)\n",
              "3       1      665     5.0                                Underground (1995)\n",
              "4       1      899     3.5                        Singin' in the Rain (1952)"
            ]
          },
          "execution_count": 13,
          "metadata": {},
          "output_type": "execute_result"
        }
      ],
      "source": [
        "# Taking a quick look\n",
        "main_df.head()"
      ]
    },
    {
      "cell_type": "code",
      "execution_count": 14,
      "metadata": {
        "colab": {
          "base_uri": "https://localhost:8080/"
        },
        "id": "WFudLXDYusJt",
        "outputId": "a4ab54de-415c-4edd-ccf4-8d5b8b3719b4"
      },
      "outputs": [
        {
          "data": {
            "text/plain": [
              "30000"
            ]
          },
          "execution_count": 14,
          "metadata": {},
          "output_type": "execute_result"
        }
      ],
      "source": [
        "# Calculate how many movies each user has submitted a rating for. This will be\n",
        "# used later to filter out users with a low number of ratings\n",
        "user_ratings_df = ratings_df.groupby('userId')['rating'].count().reset_index()\n",
        "user_ratings_df.rename(columns={'rating':'NoMoviesRated'}, inplace=True)\n",
        "\n",
        "user_list = user_ratings_df[user_ratings_df.NoMoviesRated>=100]['userId'].to_list()\n",
        "user_list = random.sample(user_list, 30000)\n",
        "len(user_list)"
      ]
    },
    {
      "cell_type": "code",
      "execution_count": 15,
      "metadata": {
        "id": "9SCOHv3btdzS"
      },
      "outputs": [],
      "source": [
        "# Create new dataframes for average rating and total number of ratings per title\n",
        "avg_ratings_df = ratings_df.groupby('movieId')['rating'].mean().reset_index()\n",
        "avg_ratings_df.rename(columns={'rating':'AvgRating'}, inplace=True)\n",
        "\n",
        "count_ratings_df = ratings_df.groupby('movieId')['rating'].count().reset_index()\n",
        "count_ratings_df.rename(columns={'rating':'CountRating'}, inplace=True)\n",
        "\n",
        "ratings_metrics_df = pd.merge(\n",
        "    avg_ratings_df,\n",
        "    count_ratings_df,\n",
        "    how='left',\n",
        "    on='movieId'\n",
        ")"
      ]
    },
    {
      "cell_type": "code",
      "execution_count": 16,
      "metadata": {
        "colab": {
          "base_uri": "https://localhost:8080/",
          "height": 283
        },
        "id": "-5B0vm1A85kS",
        "outputId": "e91b1b8a-d157-4f5b-bb1e-de06c5146366"
      },
      "outputs": [
        {
          "data": {
            "text/plain": [
              "Text(0, 0.5, 'Rating Count')"
            ]
          },
          "execution_count": 16,
          "metadata": {},
          "output_type": "execute_result"
        },
        {
          "data": {
            "image/png": "[encoded data removed]",
            "text/plain": [
              "<Figure size 864x288 with 1 Axes>"
            ]
          },
          "metadata": {
            "needs_background": "light"
          },
          "output_type": "display_data"
        }
      ],
      "source": [
        "plt.figure(figsize=(12,4))\n",
        "plt.hist(count_ratings_df.CountRating,bins=80,color='tab:purple')\n",
        "plt.ylabel('Rating Count', fontsize=16)"
      ]
    },
    {
      "cell_type": "code",
      "execution_count": 17,
      "metadata": {
        "id": "Ln9BiPWax3qW"
      },
      "outputs": [],
      "source": [
        "final_df = pd.merge(\n",
        "    main_df[main_df.userId.isin(user_list)],  # Filter using user_list\n",
        "    ratings_metrics_df,\n",
        "    how='left',\n",
        "    on='movieId'\n",
        ")\n",
        "\n",
        "# Only consider those movies with at least 100 ratings\n",
        "truncated_final_df = final_df[final_df.CountRating>=100]"
      ]
    },
    {
      "cell_type": "code",
      "execution_count": 18,
      "metadata": {
        "colab": {
          "base_uri": "https://localhost:8080/",
          "height": 424
        },
        "id": "817S6uGSzb84",
        "outputId": "27cacaf3-1345-4762-948f-b1ee3c242c7e"
      },
      "outputs": [
        {
          "data": {
            "text/html": [
              "<div>\n",
              "<style scoped>\n",
              "    .dataframe tbody tr th:only-of-type {\n",
              "        vertical-align: middle;\n",
              "    }\n",
              "\n",
              "    .dataframe tbody tr th {\n",
              "        vertical-align: top;\n",
              "    }\n",
              "\n",
              "    .dataframe thead th {\n",
              "        text-align: right;\n",
              "    }\n",
              "</style>\n",
              "<table border=\"1\" class=\"dataframe\">\n",
              "  <thead>\n",
              "    <tr style=\"text-align: right;\">\n",
              "      <th></th>\n",
              "      <th>userId</th>\n",
              "      <th>movieId</th>\n",
              "      <th>rating</th>\n",
              "      <th>title</th>\n",
              "      <th>AvgRating</th>\n",
              "      <th>CountRating</th>\n",
              "    </tr>\n",
              "  </thead>\n",
              "  <tbody>\n",
              "    <tr>\n",
              "      <th>5578907</th>\n",
              "      <td>93864</td>\n",
              "      <td>356</td>\n",
              "      <td>5.0</td>\n",
              "      <td>Forrest Gump (1994)</td>\n",
              "      <td>4.048011</td>\n",
              "      <td>81491</td>\n",
              "    </tr>\n",
              "    <tr>\n",
              "      <th>3905648</th>\n",
              "      <td>66019</td>\n",
              "      <td>356</td>\n",
              "      <td>4.0</td>\n",
              "      <td>Forrest Gump (1994)</td>\n",
              "      <td>4.048011</td>\n",
              "      <td>81491</td>\n",
              "    </tr>\n",
              "    <tr>\n",
              "      <th>213996</th>\n",
              "      <td>4039</td>\n",
              "      <td>356</td>\n",
              "      <td>4.0</td>\n",
              "      <td>Forrest Gump (1994)</td>\n",
              "      <td>4.048011</td>\n",
              "      <td>81491</td>\n",
              "    </tr>\n",
              "    <tr>\n",
              "      <th>938598</th>\n",
              "      <td>16649</td>\n",
              "      <td>356</td>\n",
              "      <td>5.0</td>\n",
              "      <td>Forrest Gump (1994)</td>\n",
              "      <td>4.048011</td>\n",
              "      <td>81491</td>\n",
              "    </tr>\n",
              "    <tr>\n",
              "      <th>3375181</th>\n",
              "      <td>57276</td>\n",
              "      <td>356</td>\n",
              "      <td>4.5</td>\n",
              "      <td>Forrest Gump (1994)</td>\n",
              "      <td>4.048011</td>\n",
              "      <td>81491</td>\n",
              "    </tr>\n",
              "    <tr>\n",
              "      <th>...</th>\n",
              "      <td>...</td>\n",
              "      <td>...</td>\n",
              "      <td>...</td>\n",
              "      <td>...</td>\n",
              "      <td>...</td>\n",
              "      <td>...</td>\n",
              "    </tr>\n",
              "    <tr>\n",
              "      <th>6667544</th>\n",
              "      <td>112556</td>\n",
              "      <td>94841</td>\n",
              "      <td>3.0</td>\n",
              "      <td>Hick (2011)</td>\n",
              "      <td>3.090000</td>\n",
              "      <td>100</td>\n",
              "    </tr>\n",
              "    <tr>\n",
              "      <th>2132659</th>\n",
              "      <td>35930</td>\n",
              "      <td>5256</td>\n",
              "      <td>2.0</td>\n",
              "      <td>Stolen Summer (2002)</td>\n",
              "      <td>3.035000</td>\n",
              "      <td>100</td>\n",
              "    </tr>\n",
              "    <tr>\n",
              "      <th>3659191</th>\n",
              "      <td>61869</td>\n",
              "      <td>98087</td>\n",
              "      <td>1.5</td>\n",
              "      <td>Cockneys vs Zombies (2012)</td>\n",
              "      <td>2.945000</td>\n",
              "      <td>100</td>\n",
              "    </tr>\n",
              "    <tr>\n",
              "      <th>752640</th>\n",
              "      <td>13438</td>\n",
              "      <td>94841</td>\n",
              "      <td>4.0</td>\n",
              "      <td>Hick (2011)</td>\n",
              "      <td>3.090000</td>\n",
              "      <td>100</td>\n",
              "    </tr>\n",
              "    <tr>\n",
              "      <th>1011430</th>\n",
              "      <td>17783</td>\n",
              "      <td>7414</td>\n",
              "      <td>4.5</td>\n",
              "      <td>Going in Style (1979)</td>\n",
              "      <td>3.460000</td>\n",
              "      <td>100</td>\n",
              "    </tr>\n",
              "  </tbody>\n",
              "</table>\n",
              "<p>9353080 rows × 6 columns</p>\n",
              "</div>"
            ],
            "text/plain": [
              "         userId  movieId  rating                       title  AvgRating  \\\n",
              "5578907   93864      356     5.0         Forrest Gump (1994)   4.048011   \n",
              "3905648   66019      356     4.0         Forrest Gump (1994)   4.048011   \n",
              "213996     4039      356     4.0         Forrest Gump (1994)   4.048011   \n",
              "938598    16649      356     5.0         Forrest Gump (1994)   4.048011   \n",
              "3375181   57276      356     4.5         Forrest Gump (1994)   4.048011   \n",
              "...         ...      ...     ...                         ...        ...   \n",
              "6667544  112556    94841     3.0                 Hick (2011)   3.090000   \n",
              "2132659   35930     5256     2.0        Stolen Summer (2002)   3.035000   \n",
              "3659191   61869    98087     1.5  Cockneys vs Zombies (2012)   2.945000   \n",
              "752640    13438    94841     4.0                 Hick (2011)   3.090000   \n",
              "1011430   17783     7414     4.5       Going in Style (1979)   3.460000   \n",
              "\n",
              "         CountRating  \n",
              "5578907        81491  \n",
              "3905648        81491  \n",
              "213996         81491  \n",
              "938598         81491  \n",
              "3375181        81491  \n",
              "...              ...  \n",
              "6667544          100  \n",
              "2132659          100  \n",
              "3659191          100  \n",
              "752640           100  \n",
              "1011430          100  \n",
              "\n",
              "[9353080 rows x 6 columns]"
            ]
          },
          "execution_count": 18,
          "metadata": {},
          "output_type": "execute_result"
        }
      ],
      "source": [
        "truncated_final_df.sort_values(by='CountRating', ascending=False)"
      ]
    },
    {
      "cell_type": "code",
      "execution_count": 19,
      "metadata": {
        "colab": {
          "base_uri": "https://localhost:8080/"
        },
        "id": "fnXb_a2QyA4q",
        "outputId": "f2fbbc6a-5c96-476b-e46a-d9021ac83164"
      },
      "outputs": [
        {
          "data": {
            "text/plain": [
              "10326"
            ]
          },
          "execution_count": 19,
          "metadata": {},
          "output_type": "execute_result"
        }
      ],
      "source": [
        "# We still have too many records to be able to train our model with our current \n",
        "# memory limitations. Let's try to bring the size of this dataframe down.\n",
        "\n",
        "# First, let's take a look at how many unique movies are represented currently \n",
        "# in the data.\n",
        "len(truncated_final_df.movieId.unique())"
      ]
    },
    {
      "cell_type": "code",
      "execution_count": 20,
      "metadata": {
        "id": "Vi2B8-i55mc5"
      },
      "outputs": [],
      "source": [
        "features_df = truncated_final_df.pivot(\n",
        "    index='movieId',\n",
        "    columns='userId',\n",
        "    values='rating'\n",
        "    ).fillna(0)"
      ]
    },
    {
      "cell_type": "code",
      "execution_count": 21,
      "metadata": {
        "colab": {
          "base_uri": "https://localhost:8080/",
          "height": 519
        },
        "id": "pIxEYO4yzQ8G",
        "outputId": "e4f0e18d-56df-47cd-d625-1330e90dd4b0"
      },
      "outputs": [
        {
          "data": {
            "text/html": [
              "<div>\n",
              "<style scoped>\n",
              "    .dataframe tbody tr th:only-of-type {\n",
              "        vertical-align: middle;\n",
              "    }\n",
              "\n",
              "    .dataframe tbody tr th {\n",
              "        vertical-align: top;\n",
              "    }\n",
              "\n",
              "    .dataframe thead th {\n",
              "        text-align: right;\n",
              "    }\n",
              "</style>\n",
              "<table border=\"1\" class=\"dataframe\">\n",
              "  <thead>\n",
              "    <tr style=\"text-align: right;\">\n",
              "      <th>userId</th>\n",
              "      <th>13</th>\n",
              "      <th>18</th>\n",
              "      <th>19</th>\n",
              "      <th>23</th>\n",
              "      <th>43</th>\n",
              "      <th>46</th>\n",
              "      <th>69</th>\n",
              "      <th>76</th>\n",
              "      <th>86</th>\n",
              "      <th>89</th>\n",
              "      <th>...</th>\n",
              "      <th>162501</th>\n",
              "      <th>162504</th>\n",
              "      <th>162507</th>\n",
              "      <th>162508</th>\n",
              "      <th>162516</th>\n",
              "      <th>162521</th>\n",
              "      <th>162524</th>\n",
              "      <th>162529</th>\n",
              "      <th>162537</th>\n",
              "      <th>162541</th>\n",
              "    </tr>\n",
              "    <tr>\n",
              "      <th>movieId</th>\n",
              "      <th></th>\n",
              "      <th></th>\n",
              "      <th></th>\n",
              "      <th></th>\n",
              "      <th></th>\n",
              "      <th></th>\n",
              "      <th></th>\n",
              "      <th></th>\n",
              "      <th></th>\n",
              "      <th></th>\n",
              "      <th></th>\n",
              "      <th></th>\n",
              "      <th></th>\n",
              "      <th></th>\n",
              "      <th></th>\n",
              "      <th></th>\n",
              "      <th></th>\n",
              "      <th></th>\n",
              "      <th></th>\n",
              "      <th></th>\n",
              "      <th></th>\n",
              "    </tr>\n",
              "  </thead>\n",
              "  <tbody>\n",
              "    <tr>\n",
              "      <th>1</th>\n",
              "      <td>4.0</td>\n",
              "      <td>3.0</td>\n",
              "      <td>0.0</td>\n",
              "      <td>0.0</td>\n",
              "      <td>4.0</td>\n",
              "      <td>0.0</td>\n",
              "      <td>3.0</td>\n",
              "      <td>0.0</td>\n",
              "      <td>5.0</td>\n",
              "      <td>0.0</td>\n",
              "      <td>...</td>\n",
              "      <td>0.0</td>\n",
              "      <td>0.0</td>\n",
              "      <td>4.0</td>\n",
              "      <td>4.5</td>\n",
              "      <td>4.5</td>\n",
              "      <td>4.0</td>\n",
              "      <td>4.5</td>\n",
              "      <td>2.0</td>\n",
              "      <td>0.0</td>\n",
              "      <td>0.0</td>\n",
              "    </tr>\n",
              "    <tr>\n",
              "      <th>2</th>\n",
              "      <td>0.0</td>\n",
              "      <td>0.0</td>\n",
              "      <td>3.5</td>\n",
              "      <td>0.0</td>\n",
              "      <td>3.5</td>\n",
              "      <td>0.0</td>\n",
              "      <td>0.0</td>\n",
              "      <td>0.0</td>\n",
              "      <td>3.0</td>\n",
              "      <td>3.0</td>\n",
              "      <td>...</td>\n",
              "      <td>0.0</td>\n",
              "      <td>0.0</td>\n",
              "      <td>3.0</td>\n",
              "      <td>0.0</td>\n",
              "      <td>2.5</td>\n",
              "      <td>0.0</td>\n",
              "      <td>0.0</td>\n",
              "      <td>4.0</td>\n",
              "      <td>0.0</td>\n",
              "      <td>0.0</td>\n",
              "    </tr>\n",
              "    <tr>\n",
              "      <th>3</th>\n",
              "      <td>0.0</td>\n",
              "      <td>1.5</td>\n",
              "      <td>0.0</td>\n",
              "      <td>5.0</td>\n",
              "      <td>0.0</td>\n",
              "      <td>0.0</td>\n",
              "      <td>0.0</td>\n",
              "      <td>0.0</td>\n",
              "      <td>0.0</td>\n",
              "      <td>4.0</td>\n",
              "      <td>...</td>\n",
              "      <td>0.0</td>\n",
              "      <td>2.0</td>\n",
              "      <td>4.0</td>\n",
              "      <td>0.0</td>\n",
              "      <td>0.5</td>\n",
              "      <td>0.0</td>\n",
              "      <td>0.0</td>\n",
              "      <td>1.0</td>\n",
              "      <td>0.0</td>\n",
              "      <td>0.0</td>\n",
              "    </tr>\n",
              "    <tr>\n",
              "      <th>4</th>\n",
              "      <td>0.0</td>\n",
              "      <td>0.0</td>\n",
              "      <td>0.0</td>\n",
              "      <td>0.0</td>\n",
              "      <td>0.0</td>\n",
              "      <td>0.0</td>\n",
              "      <td>0.0</td>\n",
              "      <td>0.0</td>\n",
              "      <td>0.0</td>\n",
              "      <td>0.0</td>\n",
              "      <td>...</td>\n",
              "      <td>0.0</td>\n",
              "      <td>0.0</td>\n",
              "      <td>0.0</td>\n",
              "      <td>0.0</td>\n",
              "      <td>2.0</td>\n",
              "      <td>0.0</td>\n",
              "      <td>0.0</td>\n",
              "      <td>0.0</td>\n",
              "      <td>0.0</td>\n",
              "      <td>0.0</td>\n",
              "    </tr>\n",
              "    <tr>\n",
              "      <th>5</th>\n",
              "      <td>0.0</td>\n",
              "      <td>4.0</td>\n",
              "      <td>0.0</td>\n",
              "      <td>0.0</td>\n",
              "      <td>0.0</td>\n",
              "      <td>0.0</td>\n",
              "      <td>0.0</td>\n",
              "      <td>0.0</td>\n",
              "      <td>0.0</td>\n",
              "      <td>0.0</td>\n",
              "      <td>...</td>\n",
              "      <td>0.0</td>\n",
              "      <td>0.0</td>\n",
              "      <td>0.0</td>\n",
              "      <td>0.0</td>\n",
              "      <td>0.0</td>\n",
              "      <td>0.0</td>\n",
              "      <td>0.0</td>\n",
              "      <td>2.0</td>\n",
              "      <td>0.0</td>\n",
              "      <td>0.0</td>\n",
              "    </tr>\n",
              "    <tr>\n",
              "      <th>...</th>\n",
              "      <td>...</td>\n",
              "      <td>...</td>\n",
              "      <td>...</td>\n",
              "      <td>...</td>\n",
              "      <td>...</td>\n",
              "      <td>...</td>\n",
              "      <td>...</td>\n",
              "      <td>...</td>\n",
              "      <td>...</td>\n",
              "      <td>...</td>\n",
              "      <td>...</td>\n",
              "      <td>...</td>\n",
              "      <td>...</td>\n",
              "      <td>...</td>\n",
              "      <td>...</td>\n",
              "      <td>...</td>\n",
              "      <td>...</td>\n",
              "      <td>...</td>\n",
              "      <td>...</td>\n",
              "      <td>...</td>\n",
              "      <td>...</td>\n",
              "    </tr>\n",
              "    <tr>\n",
              "      <th>203519</th>\n",
              "      <td>0.0</td>\n",
              "      <td>0.0</td>\n",
              "      <td>0.0</td>\n",
              "      <td>0.0</td>\n",
              "      <td>0.0</td>\n",
              "      <td>0.0</td>\n",
              "      <td>0.0</td>\n",
              "      <td>0.0</td>\n",
              "      <td>0.0</td>\n",
              "      <td>0.0</td>\n",
              "      <td>...</td>\n",
              "      <td>0.0</td>\n",
              "      <td>0.0</td>\n",
              "      <td>0.0</td>\n",
              "      <td>0.0</td>\n",
              "      <td>0.0</td>\n",
              "      <td>0.0</td>\n",
              "      <td>0.0</td>\n",
              "      <td>0.0</td>\n",
              "      <td>0.0</td>\n",
              "      <td>0.0</td>\n",
              "    </tr>\n",
              "    <tr>\n",
              "      <th>204352</th>\n",
              "      <td>0.0</td>\n",
              "      <td>0.0</td>\n",
              "      <td>0.0</td>\n",
              "      <td>0.0</td>\n",
              "      <td>0.0</td>\n",
              "      <td>0.0</td>\n",
              "      <td>0.0</td>\n",
              "      <td>0.0</td>\n",
              "      <td>0.0</td>\n",
              "      <td>0.0</td>\n",
              "      <td>...</td>\n",
              "      <td>0.0</td>\n",
              "      <td>0.0</td>\n",
              "      <td>0.0</td>\n",
              "      <td>0.0</td>\n",
              "      <td>0.0</td>\n",
              "      <td>0.0</td>\n",
              "      <td>0.0</td>\n",
              "      <td>0.0</td>\n",
              "      <td>0.0</td>\n",
              "      <td>0.0</td>\n",
              "    </tr>\n",
              "    <tr>\n",
              "      <th>204542</th>\n",
              "      <td>0.0</td>\n",
              "      <td>0.0</td>\n",
              "      <td>0.0</td>\n",
              "      <td>0.0</td>\n",
              "      <td>0.0</td>\n",
              "      <td>0.0</td>\n",
              "      <td>0.0</td>\n",
              "      <td>0.0</td>\n",
              "      <td>0.0</td>\n",
              "      <td>0.0</td>\n",
              "      <td>...</td>\n",
              "      <td>0.0</td>\n",
              "      <td>0.0</td>\n",
              "      <td>0.0</td>\n",
              "      <td>0.0</td>\n",
              "      <td>0.0</td>\n",
              "      <td>0.0</td>\n",
              "      <td>0.0</td>\n",
              "      <td>0.0</td>\n",
              "      <td>0.0</td>\n",
              "      <td>0.0</td>\n",
              "    </tr>\n",
              "    <tr>\n",
              "      <th>204698</th>\n",
              "      <td>0.0</td>\n",
              "      <td>0.0</td>\n",
              "      <td>0.0</td>\n",
              "      <td>0.0</td>\n",
              "      <td>0.0</td>\n",
              "      <td>0.0</td>\n",
              "      <td>0.0</td>\n",
              "      <td>0.0</td>\n",
              "      <td>0.0</td>\n",
              "      <td>0.0</td>\n",
              "      <td>...</td>\n",
              "      <td>0.0</td>\n",
              "      <td>0.0</td>\n",
              "      <td>0.0</td>\n",
              "      <td>0.0</td>\n",
              "      <td>0.0</td>\n",
              "      <td>0.0</td>\n",
              "      <td>0.0</td>\n",
              "      <td>0.0</td>\n",
              "      <td>0.0</td>\n",
              "      <td>0.0</td>\n",
              "    </tr>\n",
              "    <tr>\n",
              "      <th>205383</th>\n",
              "      <td>0.0</td>\n",
              "      <td>0.0</td>\n",
              "      <td>0.0</td>\n",
              "      <td>0.0</td>\n",
              "      <td>0.0</td>\n",
              "      <td>0.0</td>\n",
              "      <td>0.0</td>\n",
              "      <td>0.0</td>\n",
              "      <td>0.0</td>\n",
              "      <td>0.0</td>\n",
              "      <td>...</td>\n",
              "      <td>0.0</td>\n",
              "      <td>0.0</td>\n",
              "      <td>0.0</td>\n",
              "      <td>0.0</td>\n",
              "      <td>0.0</td>\n",
              "      <td>0.0</td>\n",
              "      <td>0.0</td>\n",
              "      <td>0.0</td>\n",
              "      <td>0.0</td>\n",
              "      <td>0.0</td>\n",
              "    </tr>\n",
              "  </tbody>\n",
              "</table>\n",
              "<p>10326 rows × 30000 columns</p>\n",
              "</div>"
            ],
            "text/plain": [
              "userId   13      18      19      23      43      46      69      76      \\\n",
              "movieId                                                                   \n",
              "1           4.0     3.0     0.0     0.0     4.0     0.0     3.0     0.0   \n",
              "2           0.0     0.0     3.5     0.0     3.5     0.0     0.0     0.0   \n",
              "3           0.0     1.5     0.0     5.0     0.0     0.0     0.0     0.0   \n",
              "4           0.0     0.0     0.0     0.0     0.0     0.0     0.0     0.0   \n",
              "5           0.0     4.0     0.0     0.0     0.0     0.0     0.0     0.0   \n",
              "...         ...     ...     ...     ...     ...     ...     ...     ...   \n",
              "203519      0.0     0.0     0.0     0.0     0.0     0.0     0.0     0.0   \n",
              "204352      0.0     0.0     0.0     0.0     0.0     0.0     0.0     0.0   \n",
              "204542      0.0     0.0     0.0     0.0     0.0     0.0     0.0     0.0   \n",
              "204698      0.0     0.0     0.0     0.0     0.0     0.0     0.0     0.0   \n",
              "205383      0.0     0.0     0.0     0.0     0.0     0.0     0.0     0.0   \n",
              "\n",
              "userId   86      89      ...  162501  162504  162507  162508  162516  162521  \\\n",
              "movieId                  ...                                                   \n",
              "1           5.0     0.0  ...     0.0     0.0     4.0     4.5     4.5     4.0   \n",
              "2           3.0     3.0  ...     0.0     0.0     3.0     0.0     2.5     0.0   \n",
              "3           0.0     4.0  ...     0.0     2.0     4.0     0.0     0.5     0.0   \n",
              "4           0.0     0.0  ...     0.0     0.0     0.0     0.0     2.0     0.0   \n",
              "5           0.0     0.0  ...     0.0     0.0     0.0     0.0     0.0     0.0   \n",
              "...         ...     ...  ...     ...     ...     ...     ...     ...     ...   \n",
              "203519      0.0     0.0  ...     0.0     0.0     0.0     0.0     0.0     0.0   \n",
              "204352      0.0     0.0  ...     0.0     0.0     0.0     0.0     0.0     0.0   \n",
              "204542      0.0     0.0  ...     0.0     0.0     0.0     0.0     0.0     0.0   \n",
              "204698      0.0     0.0  ...     0.0     0.0     0.0     0.0     0.0     0.0   \n",
              "205383      0.0     0.0  ...     0.0     0.0     0.0     0.0     0.0     0.0   \n",
              "\n",
              "userId   162524  162529  162537  162541  \n",
              "movieId                                  \n",
              "1           4.5     2.0     0.0     0.0  \n",
              "2           0.0     4.0     0.0     0.0  \n",
              "3           0.0     1.0     0.0     0.0  \n",
              "4           0.0     0.0     0.0     0.0  \n",
              "5           0.0     2.0     0.0     0.0  \n",
              "...         ...     ...     ...     ...  \n",
              "203519      0.0     0.0     0.0     0.0  \n",
              "204352      0.0     0.0     0.0     0.0  \n",
              "204542      0.0     0.0     0.0     0.0  \n",
              "204698      0.0     0.0     0.0     0.0  \n",
              "205383      0.0     0.0     0.0     0.0  \n",
              "\n",
              "[10326 rows x 30000 columns]"
            ]
          },
          "execution_count": 21,
          "metadata": {},
          "output_type": "execute_result"
        }
      ],
      "source": [
        "features_df"
      ]
    },
    {
      "cell_type": "code",
      "execution_count": 22,
      "metadata": {},
      "outputs": [],
      "source": [
        "features_df_pre_reset = features_df"
      ]
    },
    {
      "cell_type": "code",
      "execution_count": 23,
      "metadata": {
        "colab": {
          "base_uri": "https://localhost:8080/"
        },
        "id": "5YheM7OXJ0AB",
        "outputId": "ddeaf7f1-044a-48d4-9661-46c033ac1bed"
      },
      "outputs": [
        {
          "data": {
            "text/plain": [
              "NearestNeighbors(algorithm='brute', metric='cosine')"
            ]
          },
          "execution_count": 23,
          "metadata": {},
          "output_type": "execute_result"
        }
      ],
      "source": [
        "features_matrix = csr_matrix(features_df.values)\n",
        "features_df.reset_index(inplace=True)\n",
        "model = NearestNeighbors(metric = 'cosine', algorithm = 'brute')\n",
        "model.fit(features_matrix)"
      ]
    },
    {
      "cell_type": "code",
      "execution_count": 29,
      "metadata": {},
      "outputs": [],
      "source": [
        "link_df = pd.read_csv('movielens/link.csv')[['movieId', 'tmdbId']]"
      ]
    },
    {
      "cell_type": "code",
      "execution_count": 76,
      "metadata": {
        "id": "yonkUnsvNS73"
      },
      "outputs": [],
      "source": [
        "def recommend(title):\n",
        "    n_movies_to_recommend = 10\n",
        "    movie_list = truncated_final_df[truncated_final_df['title'].str.contains(title, case=False)].head(1)  \n",
        "    if len(movie_list):\n",
        "        found_title = movie_list.iloc[0]['title']        \n",
        "        movie_idx = movie_list.iloc[0]['movieId']\n",
        "        movie_idx = features_df[features_df['movieId']==movie_idx].index[0]\n",
        "\n",
        "        distances, indices = model.kneighbors(features_matrix[movie_idx],n_neighbors=n_movies_to_recommend+1)    \n",
        "        rec_movie_indices = sorted(list(zip(indices.squeeze().tolist(),distances.squeeze().tolist())),key=lambda x: x[1])[:0:-1]\n",
        "        rec_movie_indices.reverse()\n",
        "        \n",
        "        res = []\n",
        "\n",
        "        for val in rec_movie_indices:\n",
        "          movie_idx = features_df.iloc[val[0]]['movieId']\n",
        "          idx = truncated_final_df[truncated_final_df['movieId'] == movie_idx].iloc[0]['title']\n",
        "          try:\n",
        "            tmdb = link_df[link_df['movieId']==movie_idx]['tmdbId'].iloc[0]\n",
        "          except:\n",
        "            tmdb = np.nan\n",
        "          res.append(\n",
        "              {'Title':idx, 'Distance':val[1], 'tmdbId':tmdb}\n",
        "          )\n",
        "        \n",
        "        print(found_title)\n",
        "        res = pd.DataFrame(res)\n",
        "        return res\n",
        "    else:\n",
        "        return \"No movies found. Please try again with a different title.\""
      ]
    },
    {
      "cell_type": "code",
      "execution_count": 81,
      "metadata": {},
      "outputs": [
        {
          "name": "stdout",
          "output_type": "stream",
          "text": [
            "Inception (2010)\n"
          ]
        },
        {
          "data": {
            "text/html": [
              "<div>\n",
              "<style scoped>\n",
              "    .dataframe tbody tr th:only-of-type {\n",
              "        vertical-align: middle;\n",
              "    }\n",
              "\n",
              "    .dataframe tbody tr th {\n",
              "        vertical-align: top;\n",
              "    }\n",
              "\n",
              "    .dataframe thead th {\n",
              "        text-align: right;\n",
              "    }\n",
              "</style>\n",
              "<table border=\"1\" class=\"dataframe\">\n",
              "  <thead>\n",
              "    <tr style=\"text-align: right;\">\n",
              "      <th></th>\n",
              "      <th>Title</th>\n",
              "      <th>Distance</th>\n",
              "      <th>tmdbId</th>\n",
              "    </tr>\n",
              "  </thead>\n",
              "  <tbody>\n",
              "    <tr>\n",
              "      <th>0</th>\n",
              "      <td>Dark Knight, The (2008)</td>\n",
              "      <td>0.217647</td>\n",
              "      <td>155.0</td>\n",
              "    </tr>\n",
              "    <tr>\n",
              "      <th>1</th>\n",
              "      <td>Interstellar (2014)</td>\n",
              "      <td>0.277964</td>\n",
              "      <td>157336.0</td>\n",
              "    </tr>\n",
              "    <tr>\n",
              "      <th>2</th>\n",
              "      <td>Dark Knight Rises, The (2012)</td>\n",
              "      <td>0.278636</td>\n",
              "      <td>49026.0</td>\n",
              "    </tr>\n",
              "    <tr>\n",
              "      <th>3</th>\n",
              "      <td>Inglourious Basterds (2009)</td>\n",
              "      <td>0.282665</td>\n",
              "      <td>16869.0</td>\n",
              "    </tr>\n",
              "    <tr>\n",
              "      <th>4</th>\n",
              "      <td>Shutter Island (2010)</td>\n",
              "      <td>0.287717</td>\n",
              "      <td>11324.0</td>\n",
              "    </tr>\n",
              "    <tr>\n",
              "      <th>5</th>\n",
              "      <td>Avatar (2009)</td>\n",
              "      <td>0.290457</td>\n",
              "      <td>19995.0</td>\n",
              "    </tr>\n",
              "    <tr>\n",
              "      <th>6</th>\n",
              "      <td>Django Unchained (2012)</td>\n",
              "      <td>0.308094</td>\n",
              "      <td>68718.0</td>\n",
              "    </tr>\n",
              "    <tr>\n",
              "      <th>7</th>\n",
              "      <td>WALL·E (2008)</td>\n",
              "      <td>0.315310</td>\n",
              "      <td>10681.0</td>\n",
              "    </tr>\n",
              "    <tr>\n",
              "      <th>8</th>\n",
              "      <td>Up (2009)</td>\n",
              "      <td>0.316010</td>\n",
              "      <td>14160.0</td>\n",
              "    </tr>\n",
              "    <tr>\n",
              "      <th>9</th>\n",
              "      <td>Iron Man (2008)</td>\n",
              "      <td>0.319848</td>\n",
              "      <td>1726.0</td>\n",
              "    </tr>\n",
              "  </tbody>\n",
              "</table>\n",
              "</div>"
            ],
            "text/plain": [
              "                           Title  Distance    tmdbId\n",
              "0        Dark Knight, The (2008)  0.217647     155.0\n",
              "1            Interstellar (2014)  0.277964  157336.0\n",
              "2  Dark Knight Rises, The (2012)  0.278636   49026.0\n",
              "3    Inglourious Basterds (2009)  0.282665   16869.0\n",
              "4          Shutter Island (2010)  0.287717   11324.0\n",
              "5                  Avatar (2009)  0.290457   19995.0\n",
              "6        Django Unchained (2012)  0.308094   68718.0\n",
              "7                  WALL·E (2008)  0.315310   10681.0\n",
              "8                      Up (2009)  0.316010   14160.0\n",
              "9                Iron Man (2008)  0.319848    1726.0"
            ]
          },
          "execution_count": 81,
          "metadata": {},
          "output_type": "execute_result"
        }
      ],
      "source": [
        "recommend('inception')"
      ]
    },
    {
      "cell_type": "code",
      "execution_count": 80,
      "metadata": {},
      "outputs": [],
      "source": [
        "truncated_final_df.to_csv('collab-model-final-df.csv')"
      ]
    }
  ],
  "metadata": {
    "colab": {
      "collapsed_sections": [],
      "name": "CollabModel.ipynb",
      "provenance": []
    },
    "kernelspec": {
      "display_name": "Python 3.9.0 64-bit",
      "language": "python",
      "name": "python3"
    },
    "language_info": {
      "codemirror_mode": {
        "name": "ipython",
        "version": 3
      },
      "file_extension": ".py",
      "mimetype": "text/x-python",
      "name": "python",
      "nbconvert_exporter": "python",
      "pygments_lexer": "ipython3",
      "version": "3.9.0"
    },
    "vscode": {
      "interpreter": {
        "hash": "aee8b7b246df8f9039afb4144a1f6fd8d2ca17a180786b69acc140d282b71a49"
      }
    }
  },
  "nbformat": 4,
  "nbformat_minor": 0
}
