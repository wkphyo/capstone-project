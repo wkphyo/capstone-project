{
 "cells": [
  {
   "cell_type": "code",
   "execution_count": 1,
   "metadata": {},
   "outputs": [],
   "source": [
    "import pandas as pd\n",
    "import numpy as np\n",
    "import joblib\n",
    "\n",
    "from collections import defaultdict\n",
    "from surprise import Dataset, Reader, SVD, accuracy\n",
    "from surprise.model_selection import train_test_split"
   ]
  },
  {
   "cell_type": "code",
   "execution_count": 2,
   "metadata": {},
   "outputs": [],
   "source": [
    "ratings_df = pd.read_csv('movielens/ratings.csv')"
   ]
  },
  {
   "cell_type": "code",
   "execution_count": 3,
   "metadata": {},
   "outputs": [],
   "source": [
    " # instantiate a reader and read in our rating data\n",
    "reader = Reader(rating_scale=(1, 5))\n",
    "data = Dataset.load_from_df(ratings_df[['userId','movieId','rating']], reader)\n",
    " \n",
    "# train SVD on 75% of known rates\n",
    "trainset, testset = train_test_split(data, test_size=.25, random_state=60)"
   ]
  },
  {
   "cell_type": "code",
   "execution_count": 16,
   "metadata": {},
   "outputs": [
    {
     "data": {
      "text/plain": [
       "['svd-model.pkl']"
      ]
     },
     "execution_count": 16,
     "metadata": {},
     "output_type": "execute_result"
    }
   ],
   "source": [
    "model = SVD()\n",
    "model.fit(trainset)\n",
    "\n",
    "model_filename = 'svd-model.pkl'\n",
    "joblib.dump(model, model_filename)"
   ]
  },
  {
   "cell_type": "code",
   "execution_count": 4,
   "metadata": {},
   "outputs": [],
   "source": [
    "model = joblib.load('svd-model.pkl')"
   ]
  },
  {
   "cell_type": "code",
   "execution_count": 5,
   "metadata": {},
   "outputs": [],
   "source": [
    "predictions = model.test(testset)"
   ]
  },
  {
   "cell_type": "code",
   "execution_count": 15,
   "metadata": {},
   "outputs": [
    {
     "name": "stdout",
     "output_type": "stream",
     "text": [
      "RMSE: 0.6991\n"
     ]
    },
    {
     "data": {
      "text/plain": [
       "0.6991493234777875"
      ]
     },
     "execution_count": 15,
     "metadata": {},
     "output_type": "execute_result"
    }
   ],
   "source": [
    "accuracy.rmse(predictions, verbose=True)"
   ]
  },
  {
   "cell_type": "code",
   "execution_count": 7,
   "metadata": {},
   "outputs": [],
   "source": [
    "def get_top_n(predictions, n=10):\n",
    "    \"\"\"Return the top-N recommendation for each user from a set of predictions.\n",
    "\n",
    "    Args:\n",
    "        predictions(list of Prediction objects): The list of predictions, as\n",
    "            returned by the test method of an algorithm.\n",
    "        n(int): The number of recommendation to output for each user. Default\n",
    "            is 10.\n",
    "\n",
    "    Returns:\n",
    "    A dict where keys are user (raw) ids and values are lists of tuples:\n",
    "        [(raw item id, rating estimation), ...] of size n.\n",
    "    \"\"\"\n",
    "\n",
    "    # First map the predictions to each user.\n",
    "    top_n = defaultdict(list)\n",
    "    for uid, iid, true_r, est, _ in predictions:\n",
    "        top_n[uid].append((iid, est))\n",
    "\n",
    "    # Then sort the predictions for each user and retrieve the k highest ones.\n",
    "    for uid, user_ratings in top_n.items():\n",
    "        user_ratings.sort(key=lambda x: x[1], reverse=True)\n",
    "        top_n[uid] = user_ratings[:n]\n",
    "\n",
    "    return top_n"
   ]
  },
  {
   "cell_type": "code",
   "execution_count": 8,
   "metadata": {},
   "outputs": [],
   "source": [
    "top_n = get_top_n(predictions, n=5)"
   ]
  },
  {
   "cell_type": "code",
   "execution_count": 51,
   "metadata": {},
   "outputs": [],
   "source": [
    "uid_list = []\n",
    "ratings_list = []\n",
    "for uid, user_ratings in top_n.items():\n",
    "    uid_list.append(uid)\n",
    "    ratings_list.append(user_ratings)"
   ]
  },
  {
   "cell_type": "code",
   "execution_count": 52,
   "metadata": {},
   "outputs": [],
   "source": [
    "res = pd.DataFrame(list(zip(uid_list, ratings_list)),\n",
    "               columns =['uid', 'ratings'])"
   ]
  },
  {
   "cell_type": "code",
   "execution_count": 54,
   "metadata": {},
   "outputs": [],
   "source": [
    "res = res[res['ratings'].apply(lambda x: len(x) == 5)]"
   ]
  },
  {
   "cell_type": "code",
   "execution_count": 70,
   "metadata": {},
   "outputs": [],
   "source": [
    "res_ratings = res.explode('ratings')"
   ]
  },
  {
   "cell_type": "code",
   "execution_count": 74,
   "metadata": {},
   "outputs": [
    {
     "data": {
      "text/html": [
       "<div>\n",
       "<style scoped>\n",
       "    .dataframe tbody tr th:only-of-type {\n",
       "        vertical-align: middle;\n",
       "    }\n",
       "\n",
       "    .dataframe tbody tr th {\n",
       "        vertical-align: top;\n",
       "    }\n",
       "\n",
       "    .dataframe thead th {\n",
       "        text-align: right;\n",
       "    }\n",
       "</style>\n",
       "<table border=\"1\" class=\"dataframe\">\n",
       "  <thead>\n",
       "    <tr style=\"text-align: right;\">\n",
       "      <th></th>\n",
       "      <th>uid</th>\n",
       "      <th>ratings</th>\n",
       "    </tr>\n",
       "  </thead>\n",
       "  <tbody>\n",
       "    <tr>\n",
       "      <th>0</th>\n",
       "      <td>118670</td>\n",
       "      <td>(356, 5)</td>\n",
       "    </tr>\n",
       "    <tr>\n",
       "      <th>0</th>\n",
       "      <td>118670</td>\n",
       "      <td>(457, 4.977576491183835)</td>\n",
       "    </tr>\n",
       "    <tr>\n",
       "      <th>0</th>\n",
       "      <td>118670</td>\n",
       "      <td>(527, 4.931337971420746)</td>\n",
       "    </tr>\n",
       "    <tr>\n",
       "      <th>0</th>\n",
       "      <td>118670</td>\n",
       "      <td>(1246, 4.8699245785874385)</td>\n",
       "    </tr>\n",
       "    <tr>\n",
       "      <th>0</th>\n",
       "      <td>118670</td>\n",
       "      <td>(1198, 4.796269609865979)</td>\n",
       "    </tr>\n",
       "    <tr>\n",
       "      <th>...</th>\n",
       "      <td>...</td>\n",
       "      <td>...</td>\n",
       "    </tr>\n",
       "    <tr>\n",
       "      <th>162414</th>\n",
       "      <td>42939</td>\n",
       "      <td>(1617, 4.276170900102013)</td>\n",
       "    </tr>\n",
       "    <tr>\n",
       "      <th>162414</th>\n",
       "      <td>42939</td>\n",
       "      <td>(1676, 3.6223080311957734)</td>\n",
       "    </tr>\n",
       "    <tr>\n",
       "      <th>162414</th>\n",
       "      <td>42939</td>\n",
       "      <td>(198, 3.4699881005777184)</td>\n",
       "    </tr>\n",
       "    <tr>\n",
       "      <th>162414</th>\n",
       "      <td>42939</td>\n",
       "      <td>(3977, 3.23546400230794)</td>\n",
       "    </tr>\n",
       "    <tr>\n",
       "      <th>162414</th>\n",
       "      <td>42939</td>\n",
       "      <td>(3968, 3.1569166753827482)</td>\n",
       "    </tr>\n",
       "  </tbody>\n",
       "</table>\n",
       "<p>769415 rows × 2 columns</p>\n",
       "</div>"
      ],
      "text/plain": [
       "           uid                     ratings\n",
       "0       118670                    (356, 5)\n",
       "0       118670    (457, 4.977576491183835)\n",
       "0       118670    (527, 4.931337971420746)\n",
       "0       118670  (1246, 4.8699245785874385)\n",
       "0       118670   (1198, 4.796269609865979)\n",
       "...        ...                         ...\n",
       "162414   42939   (1617, 4.276170900102013)\n",
       "162414   42939  (1676, 3.6223080311957734)\n",
       "162414   42939   (198, 3.4699881005777184)\n",
       "162414   42939    (3977, 3.23546400230794)\n",
       "162414   42939  (3968, 3.1569166753827482)\n",
       "\n",
       "[769415 rows x 2 columns]"
      ]
     },
     "execution_count": 74,
     "metadata": {},
     "output_type": "execute_result"
    }
   ],
   "source": [
    "res_ratings"
   ]
  },
  {
   "cell_type": "code",
   "execution_count": 75,
   "metadata": {},
   "outputs": [],
   "source": [
    "res_ratings_split = pd.DataFrame(\n",
    "    res_ratings['ratings'].tolist(), \n",
    "    index=res_ratings.index\n",
    "    )"
   ]
  },
  {
   "cell_type": "code",
   "execution_count": 76,
   "metadata": {},
   "outputs": [
    {
     "data": {
      "text/html": [
       "<div>\n",
       "<style scoped>\n",
       "    .dataframe tbody tr th:only-of-type {\n",
       "        vertical-align: middle;\n",
       "    }\n",
       "\n",
       "    .dataframe tbody tr th {\n",
       "        vertical-align: top;\n",
       "    }\n",
       "\n",
       "    .dataframe thead th {\n",
       "        text-align: right;\n",
       "    }\n",
       "</style>\n",
       "<table border=\"1\" class=\"dataframe\">\n",
       "  <thead>\n",
       "    <tr style=\"text-align: right;\">\n",
       "      <th></th>\n",
       "      <th>0</th>\n",
       "      <th>1</th>\n",
       "    </tr>\n",
       "  </thead>\n",
       "  <tbody>\n",
       "    <tr>\n",
       "      <th>0</th>\n",
       "      <td>356</td>\n",
       "      <td>5.000000</td>\n",
       "    </tr>\n",
       "    <tr>\n",
       "      <th>0</th>\n",
       "      <td>457</td>\n",
       "      <td>4.977576</td>\n",
       "    </tr>\n",
       "    <tr>\n",
       "      <th>0</th>\n",
       "      <td>527</td>\n",
       "      <td>4.931338</td>\n",
       "    </tr>\n",
       "    <tr>\n",
       "      <th>0</th>\n",
       "      <td>1246</td>\n",
       "      <td>4.869925</td>\n",
       "    </tr>\n",
       "    <tr>\n",
       "      <th>0</th>\n",
       "      <td>1198</td>\n",
       "      <td>4.796270</td>\n",
       "    </tr>\n",
       "    <tr>\n",
       "      <th>...</th>\n",
       "      <td>...</td>\n",
       "      <td>...</td>\n",
       "    </tr>\n",
       "    <tr>\n",
       "      <th>162414</th>\n",
       "      <td>1617</td>\n",
       "      <td>4.276171</td>\n",
       "    </tr>\n",
       "    <tr>\n",
       "      <th>162414</th>\n",
       "      <td>1676</td>\n",
       "      <td>3.622308</td>\n",
       "    </tr>\n",
       "    <tr>\n",
       "      <th>162414</th>\n",
       "      <td>198</td>\n",
       "      <td>3.469988</td>\n",
       "    </tr>\n",
       "    <tr>\n",
       "      <th>162414</th>\n",
       "      <td>3977</td>\n",
       "      <td>3.235464</td>\n",
       "    </tr>\n",
       "    <tr>\n",
       "      <th>162414</th>\n",
       "      <td>3968</td>\n",
       "      <td>3.156917</td>\n",
       "    </tr>\n",
       "  </tbody>\n",
       "</table>\n",
       "<p>769415 rows × 2 columns</p>\n",
       "</div>"
      ],
      "text/plain": [
       "           0         1\n",
       "0        356  5.000000\n",
       "0        457  4.977576\n",
       "0        527  4.931338\n",
       "0       1246  4.869925\n",
       "0       1198  4.796270\n",
       "...      ...       ...\n",
       "162414  1617  4.276171\n",
       "162414  1676  3.622308\n",
       "162414   198  3.469988\n",
       "162414  3977  3.235464\n",
       "162414  3968  3.156917\n",
       "\n",
       "[769415 rows x 2 columns]"
      ]
     },
     "execution_count": 76,
     "metadata": {},
     "output_type": "execute_result"
    }
   ],
   "source": [
    "res_ratings_split"
   ]
  },
  {
   "cell_type": "code",
   "execution_count": 77,
   "metadata": {},
   "outputs": [
    {
     "data": {
      "text/html": [
       "<div>\n",
       "<style scoped>\n",
       "    .dataframe tbody tr th:only-of-type {\n",
       "        vertical-align: middle;\n",
       "    }\n",
       "\n",
       "    .dataframe tbody tr th {\n",
       "        vertical-align: top;\n",
       "    }\n",
       "\n",
       "    .dataframe thead th {\n",
       "        text-align: right;\n",
       "    }\n",
       "</style>\n",
       "<table border=\"1\" class=\"dataframe\">\n",
       "  <thead>\n",
       "    <tr style=\"text-align: right;\">\n",
       "      <th></th>\n",
       "      <th>uid</th>\n",
       "      <th>ratings</th>\n",
       "    </tr>\n",
       "  </thead>\n",
       "  <tbody>\n",
       "    <tr>\n",
       "      <th>0</th>\n",
       "      <td>118670</td>\n",
       "      <td>(356, 5)</td>\n",
       "    </tr>\n",
       "    <tr>\n",
       "      <th>0</th>\n",
       "      <td>118670</td>\n",
       "      <td>(457, 4.977576491183835)</td>\n",
       "    </tr>\n",
       "    <tr>\n",
       "      <th>0</th>\n",
       "      <td>118670</td>\n",
       "      <td>(527, 4.931337971420746)</td>\n",
       "    </tr>\n",
       "    <tr>\n",
       "      <th>0</th>\n",
       "      <td>118670</td>\n",
       "      <td>(1246, 4.8699245785874385)</td>\n",
       "    </tr>\n",
       "    <tr>\n",
       "      <th>0</th>\n",
       "      <td>118670</td>\n",
       "      <td>(1198, 4.796269609865979)</td>\n",
       "    </tr>\n",
       "    <tr>\n",
       "      <th>...</th>\n",
       "      <td>...</td>\n",
       "      <td>...</td>\n",
       "    </tr>\n",
       "    <tr>\n",
       "      <th>162414</th>\n",
       "      <td>42939</td>\n",
       "      <td>(1617, 4.276170900102013)</td>\n",
       "    </tr>\n",
       "    <tr>\n",
       "      <th>162414</th>\n",
       "      <td>42939</td>\n",
       "      <td>(1676, 3.6223080311957734)</td>\n",
       "    </tr>\n",
       "    <tr>\n",
       "      <th>162414</th>\n",
       "      <td>42939</td>\n",
       "      <td>(198, 3.4699881005777184)</td>\n",
       "    </tr>\n",
       "    <tr>\n",
       "      <th>162414</th>\n",
       "      <td>42939</td>\n",
       "      <td>(3977, 3.23546400230794)</td>\n",
       "    </tr>\n",
       "    <tr>\n",
       "      <th>162414</th>\n",
       "      <td>42939</td>\n",
       "      <td>(3968, 3.1569166753827482)</td>\n",
       "    </tr>\n",
       "  </tbody>\n",
       "</table>\n",
       "<p>769415 rows × 2 columns</p>\n",
       "</div>"
      ],
      "text/plain": [
       "           uid                     ratings\n",
       "0       118670                    (356, 5)\n",
       "0       118670    (457, 4.977576491183835)\n",
       "0       118670    (527, 4.931337971420746)\n",
       "0       118670  (1246, 4.8699245785874385)\n",
       "0       118670   (1198, 4.796269609865979)\n",
       "...        ...                         ...\n",
       "162414   42939   (1617, 4.276170900102013)\n",
       "162414   42939  (1676, 3.6223080311957734)\n",
       "162414   42939   (198, 3.4699881005777184)\n",
       "162414   42939    (3977, 3.23546400230794)\n",
       "162414   42939  (3968, 3.1569166753827482)\n",
       "\n",
       "[769415 rows x 2 columns]"
      ]
     },
     "execution_count": 77,
     "metadata": {},
     "output_type": "execute_result"
    }
   ],
   "source": [
    "res_ratings"
   ]
  },
  {
   "cell_type": "code",
   "execution_count": 138,
   "metadata": {},
   "outputs": [],
   "source": [
    "final_res = pd.merge(\n",
    "    res_ratings[['uid']], \n",
    "    res_ratings_split, \n",
    "    left_index=True, \n",
    "    right_index=True\n",
    "    )"
   ]
  },
  {
   "cell_type": "code",
   "execution_count": 139,
   "metadata": {},
   "outputs": [
    {
     "data": {
      "text/plain": [
       "3847075"
      ]
     },
     "execution_count": 139,
     "metadata": {},
     "output_type": "execute_result"
    }
   ],
   "source": [
    "len(final_res)"
   ]
  },
  {
   "cell_type": "code",
   "execution_count": 140,
   "metadata": {},
   "outputs": [],
   "source": [
    "final_res.drop_duplicates(inplace=True)"
   ]
  },
  {
   "cell_type": "code",
   "execution_count": 141,
   "metadata": {},
   "outputs": [
    {
     "data": {
      "text/plain": [
       "769415"
      ]
     },
     "execution_count": 141,
     "metadata": {},
     "output_type": "execute_result"
    }
   ],
   "source": [
    "len(final_res)"
   ]
  },
  {
   "cell_type": "code",
   "execution_count": 142,
   "metadata": {},
   "outputs": [],
   "source": [
    "final_res.rename(\n",
    "    columns={0:'movieId', 1: 'predictedRating'},\n",
    "    inplace=True\n",
    ")"
   ]
  },
  {
   "cell_type": "code",
   "execution_count": 143,
   "metadata": {},
   "outputs": [
    {
     "data": {
      "text/html": [
       "<div>\n",
       "<style scoped>\n",
       "    .dataframe tbody tr th:only-of-type {\n",
       "        vertical-align: middle;\n",
       "    }\n",
       "\n",
       "    .dataframe tbody tr th {\n",
       "        vertical-align: top;\n",
       "    }\n",
       "\n",
       "    .dataframe thead th {\n",
       "        text-align: right;\n",
       "    }\n",
       "</style>\n",
       "<table border=\"1\" class=\"dataframe\">\n",
       "  <thead>\n",
       "    <tr style=\"text-align: right;\">\n",
       "      <th></th>\n",
       "      <th>uid</th>\n",
       "      <th>movieId</th>\n",
       "      <th>predictedRating</th>\n",
       "    </tr>\n",
       "  </thead>\n",
       "  <tbody>\n",
       "    <tr>\n",
       "      <th>0</th>\n",
       "      <td>118670</td>\n",
       "      <td>356</td>\n",
       "      <td>5.000000</td>\n",
       "    </tr>\n",
       "    <tr>\n",
       "      <th>0</th>\n",
       "      <td>118670</td>\n",
       "      <td>457</td>\n",
       "      <td>4.977576</td>\n",
       "    </tr>\n",
       "    <tr>\n",
       "      <th>0</th>\n",
       "      <td>118670</td>\n",
       "      <td>527</td>\n",
       "      <td>4.931338</td>\n",
       "    </tr>\n",
       "    <tr>\n",
       "      <th>0</th>\n",
       "      <td>118670</td>\n",
       "      <td>1246</td>\n",
       "      <td>4.869925</td>\n",
       "    </tr>\n",
       "    <tr>\n",
       "      <th>0</th>\n",
       "      <td>118670</td>\n",
       "      <td>1198</td>\n",
       "      <td>4.796270</td>\n",
       "    </tr>\n",
       "    <tr>\n",
       "      <th>1</th>\n",
       "      <td>156108</td>\n",
       "      <td>1148</td>\n",
       "      <td>5.000000</td>\n",
       "    </tr>\n",
       "    <tr>\n",
       "      <th>1</th>\n",
       "      <td>156108</td>\n",
       "      <td>924</td>\n",
       "      <td>5.000000</td>\n",
       "    </tr>\n",
       "    <tr>\n",
       "      <th>1</th>\n",
       "      <td>156108</td>\n",
       "      <td>34</td>\n",
       "      <td>5.000000</td>\n",
       "    </tr>\n",
       "    <tr>\n",
       "      <th>1</th>\n",
       "      <td>156108</td>\n",
       "      <td>608</td>\n",
       "      <td>4.860273</td>\n",
       "    </tr>\n",
       "    <tr>\n",
       "      <th>1</th>\n",
       "      <td>156108</td>\n",
       "      <td>720</td>\n",
       "      <td>4.850808</td>\n",
       "    </tr>\n",
       "  </tbody>\n",
       "</table>\n",
       "</div>"
      ],
      "text/plain": [
       "      uid  movieId  predictedRating\n",
       "0  118670      356         5.000000\n",
       "0  118670      457         4.977576\n",
       "0  118670      527         4.931338\n",
       "0  118670     1246         4.869925\n",
       "0  118670     1198         4.796270\n",
       "1  156108     1148         5.000000\n",
       "1  156108      924         5.000000\n",
       "1  156108       34         5.000000\n",
       "1  156108      608         4.860273\n",
       "1  156108      720         4.850808"
      ]
     },
     "execution_count": 143,
     "metadata": {},
     "output_type": "execute_result"
    }
   ],
   "source": [
    "final_res.head(10)"
   ]
  },
  {
   "cell_type": "code",
   "execution_count": 144,
   "metadata": {},
   "outputs": [],
   "source": [
    "imdb_df = pd.read_csv('imdb-titles-df.csv')\n",
    "movies_df = pd.read_csv('movielens/movies.csv')"
   ]
  },
  {
   "cell_type": "code",
   "execution_count": 145,
   "metadata": {},
   "outputs": [],
   "source": [
    "final_res = pd.merge(\n",
    "    final_res,\n",
    "    movies_df[['movieId', 'title']],\n",
    "    how='left',\n",
    "    on='movieId'\n",
    ")"
   ]
  },
  {
   "cell_type": "code",
   "execution_count": 146,
   "metadata": {},
   "outputs": [],
   "source": [
    "final_res['Title'] = np.where(\n",
    "    final_res['title'].str.contains(', The'),\n",
    "    'The ' + final_res['title'].str.replace(', The', ''),\n",
    "    final_res['title']\n",
    ")"
   ]
  },
  {
   "cell_type": "code",
   "execution_count": 147,
   "metadata": {},
   "outputs": [
    {
     "data": {
      "text/html": [
       "<div>\n",
       "<style scoped>\n",
       "    .dataframe tbody tr th:only-of-type {\n",
       "        vertical-align: middle;\n",
       "    }\n",
       "\n",
       "    .dataframe tbody tr th {\n",
       "        vertical-align: top;\n",
       "    }\n",
       "\n",
       "    .dataframe thead th {\n",
       "        text-align: right;\n",
       "    }\n",
       "</style>\n",
       "<table border=\"1\" class=\"dataframe\">\n",
       "  <thead>\n",
       "    <tr style=\"text-align: right;\">\n",
       "      <th></th>\n",
       "      <th>Unnamed: 0</th>\n",
       "      <th>imdbId</th>\n",
       "      <th>Title</th>\n",
       "    </tr>\n",
       "  </thead>\n",
       "  <tbody>\n",
       "    <tr>\n",
       "      <th>0</th>\n",
       "      <td>936</td>\n",
       "      <td>tt0000947</td>\n",
       "      <td>L</td>\n",
       "    </tr>\n",
       "    <tr>\n",
       "      <th>1</th>\n",
       "      <td>1037</td>\n",
       "      <td>tt0001049</td>\n",
       "      <td>G</td>\n",
       "    </tr>\n",
       "    <tr>\n",
       "      <th>2</th>\n",
       "      <td>2127</td>\n",
       "      <td>tt0002152</td>\n",
       "      <td>D</td>\n",
       "    </tr>\n",
       "    <tr>\n",
       "      <th>3</th>\n",
       "      <td>2568</td>\n",
       "      <td>tt0002595</td>\n",
       "      <td>NaN</td>\n",
       "    </tr>\n",
       "    <tr>\n",
       "      <th>4</th>\n",
       "      <td>2700</td>\n",
       "      <td>tt0002727</td>\n",
       "      <td>B</td>\n",
       "    </tr>\n",
       "    <tr>\n",
       "      <th>...</th>\n",
       "      <td>...</td>\n",
       "      <td>...</td>\n",
       "      <td>...</td>\n",
       "    </tr>\n",
       "    <tr>\n",
       "      <th>8182</th>\n",
       "      <td>8463864</td>\n",
       "      <td>tt8760684</td>\n",
       "      <td>Apollo 11 (2019)</td>\n",
       "    </tr>\n",
       "    <tr>\n",
       "      <th>8183</th>\n",
       "      <td>8469033</td>\n",
       "      <td>tt8772262</td>\n",
       "      <td>Midsommar (2019)</td>\n",
       "    </tr>\n",
       "    <tr>\n",
       "      <th>8184</th>\n",
       "      <td>8616017</td>\n",
       "      <td>tt9092964</td>\n",
       "      <td>Who am I</td>\n",
       "    </tr>\n",
       "    <tr>\n",
       "      <th>8185</th>\n",
       "      <td>8686297</td>\n",
       "      <td>tt9243946</td>\n",
       "      <td>El Camino: A Breaking Bad Movie (2019)</td>\n",
       "    </tr>\n",
       "    <tr>\n",
       "      <th>8186</th>\n",
       "      <td>8803497</td>\n",
       "      <td>tt9495224</td>\n",
       "      <td>Black Mirror: Bandersnatch (2018)</td>\n",
       "    </tr>\n",
       "  </tbody>\n",
       "</table>\n",
       "<p>8187 rows × 3 columns</p>\n",
       "</div>"
      ],
      "text/plain": [
       "      Unnamed: 0     imdbId                                   Title\n",
       "0            936  tt0000947                                       L\n",
       "1           1037  tt0001049                                       G\n",
       "2           2127  tt0002152                                       D\n",
       "3           2568  tt0002595                                     NaN\n",
       "4           2700  tt0002727                                       B\n",
       "...          ...        ...                                     ...\n",
       "8182     8463864  tt8760684                        Apollo 11 (2019)\n",
       "8183     8469033  tt8772262                        Midsommar (2019)\n",
       "8184     8616017  tt9092964                                Who am I\n",
       "8185     8686297  tt9243946  El Camino: A Breaking Bad Movie (2019)\n",
       "8186     8803497  tt9495224       Black Mirror: Bandersnatch (2018)\n",
       "\n",
       "[8187 rows x 3 columns]"
      ]
     },
     "execution_count": 147,
     "metadata": {},
     "output_type": "execute_result"
    }
   ],
   "source": [
    "imdb_df"
   ]
  },
  {
   "cell_type": "code",
   "execution_count": 148,
   "metadata": {},
   "outputs": [],
   "source": [
    "final_res = pd.merge(\n",
    "    final_res,\n",
    "    imdb_df[['Title', 'imdbId']],\n",
    "    how='left',\n",
    "    on='Title'\n",
    ")"
   ]
  },
  {
   "cell_type": "code",
   "execution_count": 159,
   "metadata": {},
   "outputs": [
    {
     "data": {
      "text/plain": [
       "array([118670, 156108,  35588,  35973, 136511, 122569,  89897, 149446,\n",
       "       110833,  10037,  65956, 125355,  78960, 115102,  75659,  33349,\n",
       "       120692,  80482, 103763,  58401, 110782,  54570, 117977,  76620,\n",
       "        33844, 127681, 135594,  77495,  87879, 104739,  77979,  86442,\n",
       "        24350, 143564,  30048,  74628, 151911,  10402,  84872, 139528,\n",
       "        50099,  11491,  38208,  88005,  61412, 132366,  72315, 133990,\n",
       "       108539, 134504, 145658,   9457,  76724, 129263,   6836,  65447,\n",
       "       160014, 159070,  44812, 160925, 151068, 133040, 145447,  84516,\n",
       "       148063, 157059,  66695, 116717, 139131,  77534, 138897,  61737,\n",
       "        34616, 119917, 121522,  92198,  16874,  19041,  96459,  93123,\n",
       "       116733,  58294, 142842, 102329, 144472,  49901,  24856, 147312,\n",
       "        96584, 130060,  15148,  68338,  71533,  62685,  19615,  16041,\n",
       "        67150,  72886, 148145, 130337])"
      ]
     },
     "execution_count": 159,
     "metadata": {},
     "output_type": "execute_result"
    }
   ],
   "source": [
    "final_res.uid.unique()[0:100]"
   ]
  },
  {
   "cell_type": "code",
   "execution_count": 155,
   "metadata": {},
   "outputs": [],
   "source": [
    "final_res.to_csv('svd-model-predictions-df.csv')"
   ]
  }
 ],
 "metadata": {
  "kernelspec": {
   "display_name": "Python 3.8.3 ('base')",
   "language": "python",
   "name": "python3"
  },
  "language_info": {
   "codemirror_mode": {
    "name": "ipython",
    "version": 3
   },
   "file_extension": ".py",
   "mimetype": "text/x-python",
   "name": "python",
   "nbconvert_exporter": "python",
   "pygments_lexer": "ipython3",
   "version": "3.8.3"
  },
  "orig_nbformat": 4,
  "vscode": {
   "interpreter": {
    "hash": "6fcedeec0f8c8c06d2d3cee7d46c554dfb2c92ebd37afe007c9eeb6a35198af3"
   }
  }
 },
 "nbformat": 4,
 "nbformat_minor": 2
}
